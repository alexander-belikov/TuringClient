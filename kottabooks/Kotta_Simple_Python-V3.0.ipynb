{
 "cells": [
  {
   "cell_type": "markdown",
   "metadata": {},
   "source": [
    "# Kotta Demo V3.0\n",
    "\n",
    "Run python seamlessly over Cloud Resources managed by Kotta"
   ]
  },
  {
   "cell_type": "code",
   "execution_count": 1,
   "metadata": {
    "collapsed": true
   },
   "outputs": [],
   "source": [
    "# Import the Kotta module\n",
    "from kotta import Kotta, KottaJob\n",
    "from kotta.kotta_functions import *\n",
    "\n",
    "# Create a Kotta Connection using Login with Amazon credentials\n",
    "# The token from Kotta is stored in the auth.file\n",
    "konn = Kotta(open('../auth.file').read())"
   ]
  },
  {
   "cell_type": "markdown",
   "metadata": {},
   "source": [
    "### A simple python function"
   ]
  },
  {
   "cell_type": "code",
   "execution_count": 2,
   "metadata": {
    "collapsed": false
   },
   "outputs": [
    {
     "name": "stdout",
     "output_type": "stream",
     "text": [
      "4950\n"
     ]
    }
   ],
   "source": [
    "''' A typical python function\n",
    "    my_sum takes a list of numbers and returns the sum\n",
    "''' \n",
    "\n",
    "def my_sum(items):\n",
    "    return sum(items)\n",
    "\n",
    "\n",
    "result = my_sum (range(0,100))\n",
    "print(result)"
   ]
  },
  {
   "cell_type": "markdown",
   "metadata": {},
   "source": [
    "### Running my_sum on Kotta \n",
    "\n",
    "Let's send the function to run remotely on Kotta.\n",
    "\n",
    "The Kotta decorator **@kottajob** takes a connection to Kotta, the queue to send your jobs to, and the walltime for your application.  \n",
    "The decorated functions take and return python objects as usual.\n",
    "The functions block by default, which means that the next statement will not execute until **my_sum()** has completed execution."
   ]
  },
  {
   "cell_type": "code",
   "execution_count": 3,
   "metadata": {
    "collapsed": false
   },
   "outputs": [
    {
     "name": "stdout",
     "output_type": "stream",
     "text": [
      "4950\n"
     ]
    }
   ],
   "source": [
    "@kottajob(konn, 'Test', 5)\n",
    "def my_sum(items):\n",
    "    return sum(items)\n",
    "\n",
    "result = my_sum (range(0,100))\n",
    "print(result)"
   ]
  },
  {
   "cell_type": "markdown",
   "metadata": {},
   "source": [
    "### Running my_sum on Kotta non-blocking\n",
    "\n",
    "Let's run the same function but with non-blocking behavior.\n",
    "When a decorated function is called with **(block=False)**, a job object is immediately returned and the python moves on to the next statement.\n",
    "The job object has a **status(Kotta_Conn)** function which returns the status of the job.\n",
    "Alternatively, you could call the **get_returns(Kotta_Conn)** function which returns the\n",
    "python object returned from the my_func() once execution is complete."
   ]
  },
  {
   "cell_type": "code",
   "execution_count": 4,
   "metadata": {
    "collapsed": false
   },
   "outputs": [
    {
     "name": "stdout",
     "output_type": "stream",
     "text": [
      "<kotta.kotta_job.KottaJob object at 0x7fb78cc73b70>\n"
     ]
    }
   ],
   "source": [
    "''' Now let's send the function to run remotely on Kotta\n",
    "The decorated functions take and return python objects, when run in non-blocking mode.\n",
    "Non-blocking is the default behavior.\n",
    "'''\n",
    "@kottajob(konn, 'Test', 5, block=False)\n",
    "def my_sum(items):\n",
    "    import time\n",
    "    time.sleep(5)\n",
    "    return sum(items)\n",
    "\n",
    "job_hndl = my_sum (range(0,100))\n",
    "print(job_hndl)"
   ]
  },
  {
   "cell_type": "code",
   "execution_count": 6,
   "metadata": {
    "collapsed": false
   },
   "outputs": [
    {
     "name": "stdout",
     "output_type": "stream",
     "text": [
      "Status :  completed\n",
      "Result :  4950\n"
     ]
    }
   ],
   "source": [
    "status = job_hndl.status(konn)\n",
    "print(\"Status : \", status)\n",
    "result = job_hndl.get_results(konn)\n",
    "print(\"Result : \", result)"
   ]
  },
  {
   "cell_type": "code",
   "execution_count": 9,
   "metadata": {
    "collapsed": false
   },
   "outputs": [],
   "source": [
    "#print(job_hndl.STDERR)\n",
    "#print(job_hndl.STDOUT)"
   ]
  },
  {
   "cell_type": "markdown",
   "metadata": {},
   "source": [
    "### Handling errors\n",
    "\n",
    "Code makes mistakes, the people who write code make mistakes. Either way, we need to be able to tell easily what failed, especially when our code runs remotely. Towards debuggability, kottajob are always log the **STDOUT** and **STDERR**. These are accessible from the job objects, as shown below."
   ]
  },
  {
   "cell_type": "code",
   "execution_count": 10,
   "metadata": {
    "collapsed": false
   },
   "outputs": [
    {
     "name": "stdout",
     "output_type": "stream",
     "text": [
      "Job failed\n",
      "Returning job object\n"
     ]
    }
   ],
   "source": [
    "@kottajob(konn, 'Test', 5, block=True)\n",
    "def numpy_sum(items):\n",
    "    np_array = numpy.array(items)\n",
    "    return numpy.sum(np_array)\n",
    "\n",
    "job = numpy_sum(range(0,100))"
   ]
  },
  {
   "cell_type": "code",
   "execution_count": 12,
   "metadata": {
    "collapsed": false
   },
   "outputs": [
    {
     "name": "stdout",
     "output_type": "stream",
     "text": [
      "[<class 'kotta.kotta_outputs.KOut'>(out.pkl), <class 'kotta.kotta_outputs.KOut'>(exec.sh)]\n",
      "failed\n",
      "None\n"
     ]
    }
   ],
   "source": [
    "# Check the outputs\n",
    "# Work in progress!!!\n",
    "\n",
    "print(job.outputs)\n",
    "print(job.status(konn))\n",
    "print(job.STDOUT)"
   ]
  },
  {
   "cell_type": "code",
   "execution_count": 13,
   "metadata": {
    "collapsed": false
   },
   "outputs": [
    {
     "name": "stdout",
     "output_type": "stream",
     "text": [
      "[<kotta.kotta_job.KottaJob object at 0x7fb76d806588>, <kotta.kotta_job.KottaJob object at 0x7fb78cc88128>, <kotta.kotta_job.KottaJob object at 0x7fb7989ec4a8>, <kotta.kotta_job.KottaJob object at 0x7fb76d166d68>, <kotta.kotta_job.KottaJob object at 0x7fb76d7dfa58>]\n"
     ]
    }
   ],
   "source": [
    "### Easy Parallelism\n",
    "\n",
    "@kottajob(konn, 'Test', 5, block=False)\n",
    "def my_sum(items):\n",
    "    import time\n",
    "    time.sleep(2)\n",
    "    return sum(items)\n",
    "\n",
    "jobs = []\n",
    "for item in range(0,100,20):\n",
    "    jobs.extend([ my_sum(range(item,item+20)) ])\n",
    "    \n",
    "print(jobs)"
   ]
  },
  {
   "cell_type": "code",
   "execution_count": 14,
   "metadata": {
    "collapsed": false
   },
   "outputs": [
    {
     "data": {
      "text/plain": [
       "['completed', 'completed', 'completed', 'completed', 'completed']"
      ]
     },
     "execution_count": 14,
     "metadata": {},
     "output_type": "execute_result"
    }
   ],
   "source": [
    "[job.wait(konn) for job in jobs]"
   ]
  },
  {
   "cell_type": "code",
   "execution_count": 15,
   "metadata": {
    "collapsed": false
   },
   "outputs": [
    {
     "name": "stdout",
     "output_type": "stream",
     "text": [
      "[190, 590, 990, 1390, 1790]\n"
     ]
    },
    {
     "data": {
      "text/plain": [
       "4950"
      ]
     },
     "execution_count": 15,
     "metadata": {},
     "output_type": "execute_result"
    }
   ],
   "source": [
    "returns_array = [job.get_results(konn) for job in jobs]\n",
    "print(returns_array)\n",
    "sum(returns_array)"
   ]
  },
  {
   "cell_type": "code",
   "execution_count": 16,
   "metadata": {
    "collapsed": false
   },
   "outputs": [
    {
     "name": "stdout",
     "output_type": "stream",
     "text": [
      "(500000500000, 1000000)\n"
     ]
    }
   ],
   "source": [
    "@kottajob(konn, 'Test', 10)\n",
    "def file_sum(inputs=[]):    \n",
    "    import os\n",
    "    print(os.listdir('.'))\n",
    "    data  = [ int(line.strip()) for line in open(os.path.basename(inputs[0]), 'r').readlines() ]\n",
    "    total = sum(data)\n",
    "    length= len(data)\n",
    "    return total, length\n",
    "\n",
    "returns = file_sum(inputs=['s3://klab-jobs/1m_shuffled.txt'])\n",
    "print(returns)"
   ]
  },
  {
   "cell_type": "code",
   "execution_count": null,
   "metadata": {
    "collapsed": false
   },
   "outputs": [],
   "source": [
    "print(returns.outputs[3].read())"
   ]
  },
  {
   "cell_type": "code",
   "execution_count": null,
   "metadata": {
    "collapsed": false
   },
   "outputs": [],
   "source": [
    "import numpy as np\n",
    "np.sum(np.array(range(0,10)))"
   ]
  },
  {
   "cell_type": "code",
   "execution_count": null,
   "metadata": {
    "collapsed": false
   },
   "outputs": [],
   "source": [
    "import numpy as np\n",
    "\n",
    "@kottajob(konn, 'Test', 10, requirements='numpy')\n",
    "def numpy_chunk_adder(data):\n",
    "    import numpy as np\n",
    "    total = np.sum(data)\n",
    "    return total\n",
    "\n",
    "returns = []\n",
    "for i in range(0,100,20):\n",
    "    returns.extend([numpy_chunk_adder(np.array(range(i,i+20)))])\n",
    "print(returns)"
   ]
  },
  {
   "cell_type": "code",
   "execution_count": null,
   "metadata": {
    "collapsed": true
   },
   "outputs": [],
   "source": []
  }
 ],
 "metadata": {
  "kernelspec": {
   "display_name": "Python 3",
   "language": "python",
   "name": "python3"
  },
  "language_info": {
   "codemirror_mode": {
    "name": "ipython",
    "version": 3
   },
   "file_extension": ".py",
   "mimetype": "text/x-python",
   "name": "python",
   "nbconvert_exporter": "python",
   "pygments_lexer": "ipython3",
   "version": "3.5.2"
  }
 },
 "nbformat": 4,
 "nbformat_minor": 2
}
